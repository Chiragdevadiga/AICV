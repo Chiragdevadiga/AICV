{
 "cells": [
  {
   "cell_type": "code",
   "execution_count": 1,
   "id": "c3f6b8f3",
   "metadata": {},
   "outputs": [],
   "source": [
    "#define the knowledge base as a dictionary of rules\n",
    "\n",
    "\n",
    "knowledge_base={\n",
    "    \"rule1\":{\n",
    "        \"if\":[\"A\",\"B\"],\n",
    "        \"then\":\"C\"\n",
    "    },\n",
    "    \n",
    "     \"rule2\":{\n",
    "        \"if\":[\"D\"],\n",
    "        \"then\":\"A\"\n",
    "    },\n",
    "    \n",
    "     \"rule3\":{\n",
    "        \"if\":[\"E\"],\n",
    "        \"then\":\"B\"\n",
    "    },\n",
    "    \n",
    "     \"rule4\":{\n",
    "        \"if\":[\"F\"],\n",
    "        \"then\":\"D\"\n",
    "    },\n",
    "    \n",
    "     \"rule5\":{\n",
    "        \"if\":[\"G\"],\n",
    "        \"then\":\"E\"\n",
    "    }\n",
    "}\n",
    "    "
   ]
  },
  {
   "cell_type": "markdown",
   "id": "3ddaf3c8",
   "metadata": {},
   "source": [
    "## define a function to perform backward chaining"
   ]
  },
  {
   "cell_type": "code",
   "execution_count": 2,
   "id": "6c3ea89b",
   "metadata": {},
   "outputs": [
    {
     "ename": "SyntaxError",
     "evalue": "invalid syntax (4009723197.py, line 9)",
     "output_type": "error",
     "traceback": [
      "\u001b[0;36m  Input \u001b[0;32mIn [2]\u001b[0;36m\u001b[0m\n\u001b[0;31m    if all_conditions_met and backward_chaining(value[\"then\"],)\u001b[0m\n\u001b[0m                                                               ^\u001b[0m\n\u001b[0;31mSyntaxError\u001b[0m\u001b[0;31m:\u001b[0m invalid syntax\n"
     ]
    }
   ],
   "source": [
    "def backward_chaining(goal,known_facts):\n",
    "    if goal in known_fdacts:\n",
    "        return True\n",
    "    \n",
    "    for rule,value in knoiwledge_base.items():\n",
    "        if goal in value[\"if\"]:\n",
    "            all_conditions_met=all(condition in known_facts for condition in value[\"if\"])\n",
    "            \n",
    "            if all_conditions_met and backward_chaining(value[\"then\"],)"
   ]
  },
  {
   "cell_type": "code",
   "execution_count": null,
   "id": "eb123542",
   "metadata": {},
   "outputs": [],
   "source": []
  }
 ],
 "metadata": {
  "kernelspec": {
   "display_name": "Python 3 (ipykernel)",
   "language": "python",
   "name": "python3"
  },
  "language_info": {
   "codemirror_mode": {
    "name": "ipython",
    "version": 3
   },
   "file_extension": ".py",
   "mimetype": "text/x-python",
   "name": "python",
   "nbconvert_exporter": "python",
   "pygments_lexer": "ipython3",
   "version": "3.9.12"
  }
 },
 "nbformat": 4,
 "nbformat_minor": 5
}
