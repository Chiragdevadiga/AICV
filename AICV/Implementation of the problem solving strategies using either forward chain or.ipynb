{
 "cells": [
  {
   "cell_type": "markdown",
   "id": "28a724d4",
   "metadata": {},
   "source": [
    "## implementation of the problem solving strategies: either using forward change orr backward chaining"
   ]
  },
  {
   "cell_type": "markdown",
   "id": "6290b424",
   "metadata": {},
   "source": [
    "## forward chain"
   ]
  },
  {
   "cell_type": "code",
   "execution_count": 1,
   "id": "71abaeaa",
   "metadata": {},
   "outputs": [],
   "source": [
    "class Rule:\n",
    "    def __init__(self,antecedents,consequent):\n",
    "        self.antecedents=antecedents\n",
    "        self.consequent=consequent\n",
    "        \n",
    "class KnowledgeBase:\n",
    "    def __init__(self):\n",
    "        self.facts=set()\n",
    "        self.rules=[]\n",
    "        \n",
    "    def add_fact(self,fact):\n",
    "        self.facts.add(fact)\n",
    "        \n",
    "    def add_rules(self,rule):\n",
    "        self.rules.append(rule)\n",
    "        \n",
    "    def apply_forward_chaining(self):\n",
    "        new_facts_derived=True\n",
    "        while new_facts_derived:\n",
    "            new_facts_derived=False\n",
    "            \n",
    "            for rule in self.rules:\n",
    "                if all(antecedent in self.facts for antecedent in rule.antecedents) and rule.consequent not in self.facts:\n",
    "                    \n",
    "                    self.facts.add(rule.consequent)\n",
    "                    new_facts_derived=True\n",
    "                \n",
    "        "
   ]
  },
  {
   "cell_type": "code",
   "execution_count": 3,
   "id": "b2497fb2",
   "metadata": {},
   "outputs": [
    {
     "name": "stdout",
     "output_type": "stream",
     "text": [
      "Derived Facts: {'A', 'G', 'E', 'D', 'C'}\n"
     ]
    }
   ],
   "source": [
    "if __name__==\"__main__\":\n",
    "    kb=KnowledgeBase()\n",
    "    \n",
    "    \n",
    "    #Define the rules and facts\n",
    "    \n",
    "    rule1=Rule([\"A\",\"C\"],\"E\")\n",
    "    rule2=Rule([\"A\",\"E\"],\"G\")\n",
    "    rule3=Rule([\"B\"],\"E\")\n",
    "    rule4=Rule([\"G\"],\"D\")\n",
    "    \n",
    "    kb.add_rules(rule1)\n",
    "    kb.add_rules(rule2)\n",
    "    kb.add_rules(rule3)\n",
    "    kb.add_rules(rule4)\n",
    "    kb.add_fact(\"A\")\n",
    "    kb.add_fact(\"C\")\n",
    "   \n",
    "\n",
    "    #Apply forward chaining\n",
    "    kb.apply_forward_chaining()\n",
    "    \n",
    "    #print the derived facts\n",
    "    \n",
    "    print(\"Derived Facts:\",kb.facts)\n",
    "    \n",
    "    \n"
   ]
  },
  {
   "cell_type": "code",
   "execution_count": null,
   "id": "4555b1bb",
   "metadata": {},
   "outputs": [],
   "source": [
    "#sysmptoms will be labelled as facts;set of rules is called knowledge base;"
   ]
  }
 ],
 "metadata": {
  "kernelspec": {
   "display_name": "Python 3 (ipykernel)",
   "language": "python",
   "name": "python3"
  },
  "language_info": {
   "codemirror_mode": {
    "name": "ipython",
    "version": 3
   },
   "file_extension": ".py",
   "mimetype": "text/x-python",
   "name": "python",
   "nbconvert_exporter": "python",
   "pygments_lexer": "ipython3",
   "version": "3.9.12"
  }
 },
 "nbformat": 4,
 "nbformat_minor": 5
}
